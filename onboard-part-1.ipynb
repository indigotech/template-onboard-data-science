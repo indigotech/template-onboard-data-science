{
 "cells": [
  {
   "cell_type": "markdown",
   "id": "caf97828",
   "metadata": {},
   "source": [
    "# Onboarding DS - Part 1"
   ]
  },
  {
   "cell_type": "markdown",
   "id": "4577e3b7",
   "metadata": {},
   "source": [
    "In this first notebook, we will work on some Python important content, that you may use during your projects on Data Science.\n",
    "Up till now, you may have installed `Anaconda` or just `Jupyter`. Along this notebook, we will show you some packages and how to use them:\n",
    "* [numpy](https://numpy.org/doc/stable/): working with matrices and arrays, and treating data\n",
    "* [pandas](https://pandas.pydata.org/docs/index.html): working and treating tables (as DataFrames)\n",
    "\n",
    "However, before using them, let's start with a more simple content."
   ]
  },
  {
   "cell_type": "markdown",
   "id": "c2f946bf",
   "metadata": {},
   "source": [
    "## Using a Jupyter Notebook\n",
    "\n",
    "In a Jupyter Notebook, each cell is run separately, which means you can run your code in any cell order you wish.\n",
    "The results you obtain running a cell are kept and can be used in the other ones, like a regular Python code.\n",
    "Whenever you want to run a cell, you can press the `run` button at the top of the screen or hit the `shift`+`enter` keys on your keyboard.\n",
    "\n",
    "You can configure a cell to contain code (in Python or even R and Julia) or text (markdown), by selecting the desired option in the dropdown at the top. Markdown cells (like this one :) ) are helpful to structure your code in parts and explain your analysis."
   ]
  },
  {
   "cell_type": "markdown",
   "id": "4ae42ad3",
   "metadata": {},
   "source": [
    "## Variables\n",
    "\n",
    "As in Maths, variables are used to store information. This information can be of many different types, such as:\n",
    "* integer\n",
    "* float\n",
    "* string\n",
    "* bool\n",
    "* ...\n",
    "\n",
    "Whenever you need to attribute a value to a variable, you can use the `=` operation. <br>\n",
    "String values may be written between `\"\"`or `''`. <br>\n",
    "Bool variables can have `True` or `False` values."
   ]
  },
  {
   "cell_type": "code",
   "execution_count": 1,
   "id": "543ccadf",
   "metadata": {},
   "outputs": [],
   "source": [
    "v = 45\n",
    "t = True"
   ]
  },
  {
   "cell_type": "markdown",
   "id": "ceee441e",
   "metadata": {},
   "source": [
    "During your work as a data scientist, you will have to deal with a huge amount of data. Then, to manipulate them, you can use the structures below:\n",
    "\n",
    "Note: each datatype has its specificities and methods you can use to manipulate them. We invite you to check more about it on the documentation (https://www.python.org/doc/ , https://www.w3schools.com/python/default.asp)"
   ]
  },
  {
   "cell_type": "markdown",
   "id": "caaa4925",
   "metadata": {},
   "source": [
    "### List\n",
    "> You can store many values inside a single list. These values do not have to be of the same type.\n",
    ">\n",
    "> a = [1, 2, 3]"
   ]
  },
  {
   "cell_type": "markdown",
   "id": "f7555206",
   "metadata": {},
   "source": [
    "### Tuple\n",
    "> Like a list, you can store many values inside a tuple. However, the order of the elements is important and we cannot change (add, remove or substitute values) a tuple once it is created.\n",
    ">\n",
    "> a = (1, 2)"
   ]
  },
  {
   "cell_type": "markdown",
   "id": "856945db",
   "metadata": {},
   "source": [
    "### Set\n",
    "> You can also store many values inside a tuple. Like in Maths, a set do not contain duplicated values an do not have an order. You cannot change the value of one of its elements, but you can add and remove elements.\n",
    ">\n",
    "> a = {1, 3, 5, 7}"
   ]
  },
  {
   "cell_type": "markdown",
   "id": "077066c7",
   "metadata": {},
   "source": [
    "### Dictionary\n",
    "> It is a way of mapping values. It is composed by key-value pairs.\n",
    ">\n",
    "> a = {\"Neymar\": \"PSG\", \"CR7\":\"Manchester\", \"Messi\": \"PSG\"}"
   ]
  },
  {
   "cell_type": "markdown",
   "id": "728aa118",
   "metadata": {},
   "source": [
    "<div class = 'alert alert-block alert-info'> Task 1: Create a new cell and a list called <b>list1</b>, with string values of your choice. Then, <b>append</b> the variable v created before in your list1.\n",
    "    \n",
    "Create a set of tuples of length = 2 whose values are floating-point numbers and call it <b>coordinates</b>. Your set must have at least 5 tuples. Then, create a variable <b>u</b> whose value is the sum of the elements of the third tuple from \"coordinates\"."
   ]
  },
  {
   "cell_type": "markdown",
   "id": "08bcff38",
   "metadata": {},
   "source": [
    "## NumPy and Pandas"
   ]
  },
  {
   "cell_type": "markdown",
   "id": "1ba29777",
   "metadata": {},
   "source": [
    "As mentioned before, these packages are **really** helpful when we are dealing with table-format data and matrices.\n",
    "To install them, you should open your terminal and type:\n",
    "\n",
    "> \\>\\> `pip3 install numpy` <br>\n",
    "> \\>\\> `pip3 install pandas`\n",
    "\n",
    "Or, if you are using Anaconda:\n",
    "\n",
    "> \\>\\> `conda install numpy` <br>\n",
    "> \\>\\> `conda install pandas`\n",
    "\n",
    "After installing them, you need to import these packages into your code. As a convention, we always import the packages we use in the beginning of the code. To simplify referencing pandas and numpy when using their methods, we use `pd` as an alias for pandas and `np` for numpy."
   ]
  },
  {
   "cell_type": "code",
   "execution_count": 2,
   "id": "901e2146",
   "metadata": {},
   "outputs": [],
   "source": [
    "import pandas as pd\n",
    "import numpy as np"
   ]
  },
  {
   "cell_type": "markdown",
   "id": "aa766754",
   "metadata": {},
   "source": [
    "### NumPy\n",
    "\n",
    "Data can be manipulated with this package if it is in NumPy array format.<br>\n",
    "There are many things you can do easily with NumPy and we will show some of them here."
   ]
  },
  {
   "cell_type": "code",
   "execution_count": 5,
   "id": "fd679a24",
   "metadata": {},
   "outputs": [
    {
     "name": "stdout",
     "output_type": "stream",
     "text": [
      "[[ 1  2  3  4]\n",
      " [ 5  6  7  8]\n",
      " [ 9 10 11 12]]\n",
      "[[ 1  5  9]\n",
      " [ 2  6 10]\n",
      " [ 3  7 11]\n",
      " [ 4  8 12]]\n",
      "[5. 6. 7. 8.]\n"
     ]
    }
   ],
   "source": [
    "a = np.zeros((4,))\n",
    "b = np.array([[1, 2, 3, 4], [5, 6, 7, 8], [9, 10, 11, 12]])\n",
    "\n",
    "print(a)\n",
    "print(b, \"\\n\")\n",
    "print(b.T, \"\\n\") # transpose\n",
    "print(np.mean(b, axis=0), \"\\n\") # mean of each column"
   ]
  },
  {
   "cell_type": "markdown",
   "id": "f3a6d09e",
   "metadata": {},
   "source": [
    "<div class = 'alert alert-block alert-info'> Task 2: Create a numpy array with 1 row and 3 columns and call it <b>c</b>. Then concatenate it with the array <b>a</b>. Calculate the sum of each row and each column of this new array using a numpy method."
   ]
  },
  {
   "cell_type": "markdown",
   "id": "c851a971",
   "metadata": {},
   "source": [
    "### Pandas\n",
    "\n",
    "With Pandas, our data must be in DataFrames (or Series)."
   ]
  },
  {
   "cell_type": "code",
   "execution_count": 9,
   "id": "db8f472a",
   "metadata": {},
   "outputs": [
    {
     "data": {
      "text/html": [
       "<div>\n",
       "<style scoped>\n",
       "    .dataframe tbody tr th:only-of-type {\n",
       "        vertical-align: middle;\n",
       "    }\n",
       "\n",
       "    .dataframe tbody tr th {\n",
       "        vertical-align: top;\n",
       "    }\n",
       "\n",
       "    .dataframe thead th {\n",
       "        text-align: right;\n",
       "    }\n",
       "</style>\n",
       "<table border=\"1\" class=\"dataframe\">\n",
       "  <thead>\n",
       "    <tr style=\"text-align: right;\">\n",
       "      <th></th>\n",
       "      <th>Name</th>\n",
       "      <th>Age</th>\n",
       "      <th>Sex</th>\n",
       "      <th>State</th>\n",
       "    </tr>\n",
       "  </thead>\n",
       "  <tbody>\n",
       "    <tr>\n",
       "      <th>0</th>\n",
       "      <td>A</td>\n",
       "      <td>22</td>\n",
       "      <td>male</td>\n",
       "      <td>SP</td>\n",
       "    </tr>\n",
       "    <tr>\n",
       "      <th>1</th>\n",
       "      <td>B</td>\n",
       "      <td>35</td>\n",
       "      <td>male</td>\n",
       "      <td>MG</td>\n",
       "    </tr>\n",
       "    <tr>\n",
       "      <th>2</th>\n",
       "      <td>C</td>\n",
       "      <td>58</td>\n",
       "      <td>female</td>\n",
       "      <td>MG</td>\n",
       "    </tr>\n",
       "    <tr>\n",
       "      <th>3</th>\n",
       "      <td>D</td>\n",
       "      <td>17</td>\n",
       "      <td>female</td>\n",
       "      <td>AC</td>\n",
       "    </tr>\n",
       "    <tr>\n",
       "      <th>4</th>\n",
       "      <td>E</td>\n",
       "      <td>42</td>\n",
       "      <td>male</td>\n",
       "      <td>SP</td>\n",
       "    </tr>\n",
       "  </tbody>\n",
       "</table>\n",
       "</div>"
      ],
      "text/plain": [
       "  Name  Age     Sex State\n",
       "0    A   22    male    SP\n",
       "1    B   35    male    MG\n",
       "2    C   58  female    MG\n",
       "3    D   17  female    AC\n",
       "4    E   42    male    SP"
      ]
     },
     "metadata": {},
     "output_type": "display_data"
    },
    {
     "data": {
      "text/plain": [
       "(5, 4)"
      ]
     },
     "metadata": {},
     "output_type": "display_data"
    },
    {
     "data": {
      "text/html": [
       "<div>\n",
       "<style scoped>\n",
       "    .dataframe tbody tr th:only-of-type {\n",
       "        vertical-align: middle;\n",
       "    }\n",
       "\n",
       "    .dataframe tbody tr th {\n",
       "        vertical-align: top;\n",
       "    }\n",
       "\n",
       "    .dataframe thead th {\n",
       "        text-align: right;\n",
       "    }\n",
       "</style>\n",
       "<table border=\"1\" class=\"dataframe\">\n",
       "  <thead>\n",
       "    <tr style=\"text-align: right;\">\n",
       "      <th></th>\n",
       "      <th>Name</th>\n",
       "      <th>Age</th>\n",
       "      <th>Sex</th>\n",
       "      <th>State</th>\n",
       "    </tr>\n",
       "  </thead>\n",
       "  <tbody>\n",
       "    <tr>\n",
       "      <th>3</th>\n",
       "      <td>D</td>\n",
       "      <td>17</td>\n",
       "      <td>female</td>\n",
       "      <td>AC</td>\n",
       "    </tr>\n",
       "    <tr>\n",
       "      <th>0</th>\n",
       "      <td>A</td>\n",
       "      <td>22</td>\n",
       "      <td>male</td>\n",
       "      <td>SP</td>\n",
       "    </tr>\n",
       "    <tr>\n",
       "      <th>1</th>\n",
       "      <td>B</td>\n",
       "      <td>35</td>\n",
       "      <td>male</td>\n",
       "      <td>MG</td>\n",
       "    </tr>\n",
       "    <tr>\n",
       "      <th>4</th>\n",
       "      <td>E</td>\n",
       "      <td>42</td>\n",
       "      <td>male</td>\n",
       "      <td>SP</td>\n",
       "    </tr>\n",
       "    <tr>\n",
       "      <th>2</th>\n",
       "      <td>C</td>\n",
       "      <td>58</td>\n",
       "      <td>female</td>\n",
       "      <td>MG</td>\n",
       "    </tr>\n",
       "  </tbody>\n",
       "</table>\n",
       "</div>"
      ],
      "text/plain": [
       "  Name  Age     Sex State\n",
       "3    D   17  female    AC\n",
       "0    A   22    male    SP\n",
       "1    B   35    male    MG\n",
       "4    E   42    male    SP\n",
       "2    C   58  female    MG"
      ]
     },
     "metadata": {},
     "output_type": "display_data"
    },
    {
     "data": {
      "text/plain": [
       "State\n",
       "AC    1\n",
       "MG    2\n",
       "SP    2\n",
       "dtype: int64"
      ]
     },
     "metadata": {},
     "output_type": "display_data"
    }
   ],
   "source": [
    "df = pd.DataFrame(\n",
    "    {\n",
    "        \"Name\": [\n",
    "            \"A\",\n",
    "            \"B\",\n",
    "            \"C\",\n",
    "            \"D\",\n",
    "            \"E\"\n",
    "        ],\n",
    "        \"Age\": [22, 35, 58, 17, 42],\n",
    "        \"Sex\": [\"male\", \"male\", \"female\", \"female\", \"male\"],\n",
    "        \"State\": [\"SP\", \"MG\", \"MG\", \"AC\", \"SP\"],\n",
    "    }\n",
    ")\n",
    "\n",
    "display(df)\n",
    "display(df.shape)\n",
    "display(df.sort_values(by=\"Age\")) # ordering the record with respect to the age\n",
    "display(df.groupby(\"State\").size()) # counting the number of people in each state"
   ]
  },
  {
   "cell_type": "markdown",
   "id": "8f1697de",
   "metadata": {},
   "source": [
    "<div class = 'alert alert-block alert-info'> Task 3: Convert <b>b</b> into a dataframe. Then concatenate it with the array <b>a</b>.\n",
    "    \n",
    "Now, find out the mean age of each sex. (Tip: read about the operations and aggregation functions you can do with `groupby`)"
   ]
  },
  {
   "cell_type": "code",
   "execution_count": null,
   "id": "a4e57c01",
   "metadata": {},
   "outputs": [],
   "source": []
  }
 ],
 "metadata": {
  "kernelspec": {
   "display_name": "Python 3 (ipykernel)",
   "language": "python",
   "name": "python3"
  },
  "language_info": {
   "codemirror_mode": {
    "name": "ipython",
    "version": 3
   },
   "file_extension": ".py",
   "mimetype": "text/x-python",
   "name": "python",
   "nbconvert_exporter": "python",
   "pygments_lexer": "ipython3",
   "version": "3.9.0"
  }
 },
 "nbformat": 4,
 "nbformat_minor": 5
}
