{
 "cells": [
  {
   "cell_type": "markdown",
   "id": "3e1cd9f5",
   "metadata": {},
   "source": [
    "# Onboarding DS - Part 3"
   ]
  },
  {
   "cell_type": "markdown",
   "id": "e6c6a47e",
   "metadata": {},
   "source": [
    "Yay! We are already in the third part of this onboarding. Now, we will continue preparing the data and start clustering our penguins :D <br>\n",
    "Do not forget that you can always revisit the exploratory data analysis part and try other ways to prepare your data for clustering! None of the steps are immutable and it is an important part of the process to go back to previous analysis and reevaluate things (check out the [CRISP-DM](https://en.wikipedia.org/wiki/Cross-industry_standard_process_for_data_mining) methodology)."
   ]
  },
  {
   "cell_type": "markdown",
   "id": "545dd827",
   "metadata": {},
   "source": [
    "## Packages and data"
   ]
  },
  {
   "cell_type": "markdown",
   "id": "d9f96d70",
   "metadata": {},
   "source": [
    "Here, we will use the same packages we were using before and add a new one: sci-kit learn. This package is really helpful when we want to build machine learning models. Install it the same way you installed the other packages earlier."
   ]
  },
  {
   "cell_type": "code",
   "execution_count": null,
   "id": "5e01837f",
   "metadata": {},
   "outputs": [],
   "source": [
    "import pandas as pd\n",
    "import numpy as np\n",
    "import plotly.express as px\n",
    "import plotly.graph_objects as go\n",
    "from plotly.subplots import make_subplots"
   ]
  },
  {
   "cell_type": "markdown",
   "id": "45efd233",
   "metadata": {},
   "source": [
    "Let's import our penguins dataset and continue working with it."
   ]
  },
  {
   "cell_type": "code",
   "execution_count": null,
   "id": "7010a4d7",
   "metadata": {},
   "outputs": [],
   "source": [
    "penguins = pd.read_csv('data/penguins_dataset.csv')"
   ]
  },
  {
   "cell_type": "markdown",
   "id": "a2758096",
   "metadata": {},
   "source": [
    "## Data prep (continuation)"
   ]
  },
  {
   "cell_type": "markdown",
   "id": "dccd1cc8",
   "metadata": {},
   "source": [
    "Do you remember the histograms we did previously? One thing that is important to notice is the range of values of each feature: the body mass varies from 2700 up to 6300 grams, while the culmen depth can have values between 13 and 21.5 mm. In other words, the scale of the features are not the same.\n",
    "\n",
    "It can be a problem when we want to use clustering models because, in general, these models are based on the idea of comparing distances between data points and when we have different value ranges, a feature may unintentionally gain more relevance over another one. That is why we should normalize the data! There are many different techniques to do so, and depending on your intentions, you may prefer one over another. In some cases, you are more interested in putting all features in a same range of values; in other cases, you want your data to follow a normal distribution. We invite you to take a deeper look in this topic ([you can start here :) ](https://scikit-learn.org/stable/modules/preprocessing.html))!"
   ]
  },
  {
   "cell_type": "markdown",
   "id": "3afba5cc",
   "metadata": {},
   "source": [
    "<div class = 'alert alert-block alert-info'> Task 1: Choose one of the "
   ]
  }
 ],
 "metadata": {
  "kernelspec": {
   "display_name": "Python 3 (ipykernel)",
   "language": "python",
   "name": "python3"
  },
  "language_info": {
   "codemirror_mode": {
    "name": "ipython",
    "version": 3
   },
   "file_extension": ".py",
   "mimetype": "text/x-python",
   "name": "python",
   "nbconvert_exporter": "python",
   "pygments_lexer": "ipython3",
   "version": "3.9.0"
  }
 },
 "nbformat": 4,
 "nbformat_minor": 5
}
